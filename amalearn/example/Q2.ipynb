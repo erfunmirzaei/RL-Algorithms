{
 "cells": [
  {
   "cell_type": "code",
   "execution_count": 3,
   "metadata": {},
   "outputs": [],
   "source": [
    "from amalearn.reward import GaussianReward, RewardBase\n",
    "from amalearn.agent import AgentBase\n",
    "from amalearn.environment import EnvironmentBase\n",
    "import numpy as np\n",
    "from math import *\n",
    "import matplotlib.pyplot as plt\n",
    "import scipy.stats as stats\n",
    "import gym\n",
    "import random"
   ]
  },
  {
   "cell_type": "markdown",
   "metadata": {},
   "source": [
    "* Reward class: \n",
    "    * The following Reward class inherits from RewardBase class and includes value and probability of the reward.\n",
    "* NArmedBanditEnvironment class:\n",
    "    * The select_action_epsilon method get a value p randomly between 0 to 1 and if it is less than the epsilon then it returns the best action otherwise it selects a random action.  \n",
    "    * The update_epsilon_selected_arm method updates the resulted Q value of the selected arm by adding alpha * (Ri - Q_value) which is a multiplier of the error.\n",
    "    * The select_action_UCB method checks if the arm is selected at least once or not. if the arm is not selected it counts that arms value as infinity and if the arm is selected at least once it counts Q_value_i + c_level * sqrt(np.log(np.sum(T))/T_i) as the value and returns index of the arm with maximum value.\n",
    "    * The update_UCB_selected_arm method updates the selected arm to (Q*T+R)/(T+1) and increaments T of the arm by 1.\n",
    "* Agent_epsilonGreedy class:\n",
    "    * This class has three variable one for epsilon, one for the alpha value and one array of calculated Q_values.\n",
    "    * The take_action method selcts an arm with select_action_epsilon method of the environment and recieves the reward and updates the selected arm's Q_value with update_epsilon_selected_arm method.\n",
    "* Agent_UCB class:\n",
    "    * This class has a variable for c_level and two array one for Q_values and one for keeping track of jow many times (T) an arm is selected.\n",
    "    * The take_action method selcts an arm with select_action_UCB method of the environment and recieves the reward and updates the selected arm's Q_value and T with update_UCB_selected_arm method."
   ]
  },
  {
   "cell_type": "code",
   "execution_count": 4,
   "metadata": {},
   "outputs": [],
   "source": [
    "class Reward(RewardBase):\n",
    "    def __init__(self, value, p):\n",
    "        super(Reward, self).__init__()\n",
    "        self.value = value\n",
    "        self.p = p\n",
    "        \n",
    "    \n",
    "    def get_reward(self):\n",
    "        return np.random.choice(a = self.value,p = self.p)\n",
    "    \n",
    "    def update(self, Ri):\n",
    "        return\n",
    "\n",
    "class NArmedBanditEnvironment(EnvironmentBase):\n",
    "    def __init__(self, reward_mean, reward_var, arm_count, id, container=None):\n",
    "        state_space = gym.spaces.Discrete(1)\n",
    "        action_space = gym.spaces.Discrete(arm_count)\n",
    "        super(NArmedBanditEnvironment, self).__init__(action_space, state_space, id, container)\n",
    "        self.arm_count = arm_count\n",
    "        self.rewards = [Reward(reward_mean[i], reward_var[i]) for i in range(arm_count)]\n",
    "        self.time = 0\n",
    "        \n",
    "    def sample_all_rewards(self):\n",
    "        return\n",
    "    \n",
    "    def select_action_epsilon(self, epsilon, Q_value):\n",
    "        p = random.random()\n",
    "        if p< epsilon:\n",
    "            return np.argmax(Q_value)\n",
    "        else:\n",
    "            return np.random.choice(self.arm_count)\n",
    "    \n",
    "    def update_epsilon_selected_arm(self, index_selected_arm, Q_value, Ri, alpha):\n",
    "        Q_value[index_selected_arm] = Q_value[index_selected_arm] + alpha * (Ri - Q_value[index_selected_arm])\n",
    "        return Q_value\n",
    "     \n",
    "    def update_UCB_selected_arm(self, index_selected_arm, c_level, T, Q_value, Ri):\n",
    "        Q_value[index_selected_arm] = Q_value[index_selected_arm] * T[index_selected_arm] + Ri\n",
    "        T[index_selected_arm] = T[index_selected_arm] + 1 \n",
    "        Q_value[index_selected_arm] = Q_value[index_selected_arm]/ T[index_selected_arm]\n",
    "        return Q_value, T\n",
    "        \n",
    "    def select_action_UCB(self, c_level, T, Q_value):\n",
    "        ucb = []\n",
    "        for i in range(len(T)):\n",
    "            if T[i] !=0 :\n",
    "                ucb.append(Q_value[i] + c_level * sqrt(np.log(np.sum(T))/T[i]))\n",
    "            else:\n",
    "                ucb.append(np.inf)\n",
    "        return np.argmax(ucb)\n",
    "        \n",
    "    def calculate_reward(self, action):\n",
    "        return self.rewards[action].get_reward()\n",
    "\n",
    "    def terminated(self):\n",
    "        return \n",
    "\n",
    "    def observe(self):\n",
    "        return \n",
    "\n",
    "    def available_actions(self):\n",
    "        return self.action_space.n\n",
    "\n",
    "    def next_state(self, action):\n",
    "        return\n",
    "\n",
    "    def reset(self):\n",
    "        return\n",
    "\n",
    "    def render(self, mode='human'):\n",
    "        #print('{}:\\taction={}'.format(self.state['length'], self.state['last_action']))\n",
    "        return \n",
    "\n",
    "    def close(self):\n",
    "        return\n",
    "    \n",
    "class Agent_epsilonGreedy(AgentBase):\n",
    "    def __init__(self,epsilon, environment, alpha, id):\n",
    "        self.epsilon = epsilon\n",
    "        self.Q_value = np.zeros(environment.arm_count)\n",
    "        super(Agent_epsilonGreedy, self).__init__(id, environment)\n",
    "        self.alpha = alpha\n",
    "        \n",
    "    def take_action(self) -> (object, float, bool, object):\n",
    "        index_selected_arm = self.environment.select_action_epsilon(self.epsilon, self.Q_value)\n",
    "        obs, Ri, d, i = self.environment.step(index_selected_arm)\n",
    "        #print(Ri, index_selected_arm )\n",
    "        self.Q_value = self.environment.update_epsilon_selected_arm(index_selected_arm, self.Q_value, Ri, self.alpha)\n",
    "        #print(obs, r, d, i)\n",
    "        self.environment.render()\n",
    "        return obs, Ri, d, i\n",
    "    \n",
    "class Agent_UCB(AgentBase):\n",
    "    def __init__(self, environment, id, c_level):\n",
    "        self.c_level = c_level\n",
    "        self.T = np.ones(environment.arm_count)  * 1000\n",
    "        super(Agent_UCB, self).__init__(id, environment)\n",
    "        self.Q_value = np.zeros(environment.arm_count)\n",
    "        \n",
    "    def take_action(self) -> (object, float, bool, object):\n",
    "        index_selected_arm = self.environment.select_action_UCB(self.c_level, self.T, self.Q_value)\n",
    "        obs, Ri, d, i = self.environment.step(index_selected_arm)\n",
    "        self.Q_value, self.T =self.environment.update_UCB_selected_arm(index_selected_arm, self.c_level, self.T, self.Q_value, Ri)\n",
    "        #print(obs, r, d, i)\n",
    "        self.environment.render()\n",
    "        return obs, Ri, d, i"
   ]
  },
  {
   "cell_type": "markdown",
   "metadata": {},
   "source": [
    "Result of UCB  method:"
   ]
  },
  {
   "cell_type": "code",
   "execution_count": 75,
   "metadata": {
    "scrolled": true
   },
   "outputs": [
    {
     "data": {
      "image/png": "[encoded data removed]",
      "text/plain": [
       "<Figure size 432x288 with 1 Axes>"
      ]
     },
     "metadata": {
      "needs_background": "light"
     },
     "output_type": "display_data"
    }
   ],
   "source": [
    "reward_value = [[45,-10],[40,-20],[35,-30],[30,-40],[25,-50],[0,-400]]\n",
    "reward_p = [[0.02,0.98],[0.157,0.843],[0.498,0.502],[0.84,0.16],[0.975,0.025],[0.00000001,0.99999999]]\n",
    "env = NArmedBanditEnvironment(reward_value, reward_p, 6, 1)\n",
    "agent = Agent_UCB(env, '2', 0.1)\n",
    "agent2 = Agent_epsilonGreedy(0.1, env, 0.1, '1')\n",
    "action_selected_UCB = []\n",
    "optimal_count = 0\n",
    "R_ucb = [0]\n",
    "for step in range(1000):\n",
    "    _,r,_,_ = agent.take_action()\n",
    "    if np.argmax(agent.Q_value) == 4:\n",
    "        optimal_count = optimal_count + 1\n",
    "    action_selected_UCB.append(optimal_count/(step+1))\n",
    "    R_ucb.append((R_ucb[step-1]*step + r)/(step+1))\n",
    "plt.plot([i+1 for i in range(1000)], action_selected_UCB)\n",
    "plt.show()"
   ]
  },
  {
   "cell_type": "markdown",
   "metadata": {},
   "source": [
    "Result of epsilon greedy method:"
   ]
  },
  {
   "cell_type": "code",
   "execution_count": 76,
   "metadata": {},
   "outputs": [
    {
     "data": {
      "image/png": "[encoded data removed]",
      "text/plain": [
       "<Figure size 432x288 with 1 Axes>"
      ]
     },
     "metadata": {
      "needs_background": "light"
     },
     "output_type": "display_data"
    }
   ],
   "source": [
    "env = NArmedBanditEnvironment(reward_value, reward_p, 6, 1)\n",
    "action_selected_epsilon = []\n",
    "optimal_count = 0\n",
    "R_epsilon = [0]\n",
    "for step in range(1000):\n",
    "    _,r,_,_ = agent2.take_action()\n",
    "    if np.argmax(agent2.Q_value) == 4:\n",
    "        optimal_count = optimal_count + 1\n",
    "    action_selected_epsilon.append(optimal_count/(step+1))\n",
    "    R_epsilon.append((R_epsilon[step-1]*step + r)/(step+1))\n",
    "plt.plot([i+1 for i in range(1000)], action_selected_epsilon)\n",
    "plt.show()"
   ]
  },
  {
   "cell_type": "code",
   "execution_count": 81,
   "metadata": {},
   "outputs": [
    {
     "data": {
      "image/png": "[encoded data removed]",
      "text/plain": [
       "<Figure size 432x288 with 1 Axes>"
      ]
     },
     "metadata": {
      "needs_background": "light"
     },
     "output_type": "display_data"
    }
   ],
   "source": [
    "plt.plot([i for i in range(1001)], R_epsilon, label = \"epsilon\")\n",
    "plt.plot([i for i in range(1001)], R_ucb, label=\"ucb\")\n",
    "plt.xlabel(\"Trial\")\n",
    "plt.ylabel(\"Average Revard\")\n",
    "plt.legend()\n",
    "plt.show()"
   ]
  }
 ],
 "metadata": {
  "kernelspec": {
   "display_name": "Python 3",
   "language": "python",
   "name": "python3"
  },
  "language_info": {
   "codemirror_mode": {
    "name": "ipython",
    "version": 3
   },
   "file_extension": ".py",
   "mimetype": "text/x-python",
   "name": "python",
   "nbconvert_exporter": "python",
   "pygments_lexer": "ipython3",
   "version": "3.7.1"
  }
 },
 "nbformat": 4,
 "nbformat_minor": 2
}
