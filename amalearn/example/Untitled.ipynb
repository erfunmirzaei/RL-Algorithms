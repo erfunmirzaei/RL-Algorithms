{
 "cells": [
  {
   "cell_type": "code",
   "execution_count": 18,
   "metadata": {},
   "outputs": [],
   "source": [
    "from amalearn.reward import GaussianReward, RewardBase\n",
    "from amalearn.agent import AgentBase\n",
    "from amalearn.environment import EnvironmentBase\n",
    "import numpy as np\n",
    "from math import *\n",
    "import matplotlib.pyplot as plt\n",
    "import scipy.stats as stats\n",
    "import gym"
   ]
  },
  {
   "cell_type": "code",
   "execution_count": 14,
   "metadata": {},
   "outputs": [],
   "source": [
    "class Reward(RewardBase):\n",
    "    def __init__(self, mean, var):\n",
    "        super(Reward, self).__init__()\n",
    "        self.m = mean\n",
    "        self.var = var\n",
    "        \n",
    "    \n",
    "    def get_reward(self):\n",
    "        return np.random.normal(loc=self.m, scale=sqrt(self.var))\n",
    "    \n",
    "    def update(self, Ri):\n",
    "        self.m = self.m\n",
    "        self.var = self.var\n",
    "\n",
    "class NArmedBanditEnvironment(EnvironmentBase):\n",
    "    def __init__(self, arm_count, id, container=None):\n",
    "        state_space = gym.spaces.Discrete(1)\n",
    "        action_space = gym.spaces.Discrete(arm_count)\n",
    "        super(NArmedBanditEnvironment, self).__init__(action_space, state_space, id, container)\n",
    "        \n",
    "    \n",
    "    def calculate_reward(self, action):\n",
    "        return \n",
    "\n",
    "    def terminated(self):\n",
    "        return \n",
    "\n",
    "    def observe(self):\n",
    "        return \n",
    "\n",
    "    def available_actions(self):\n",
    "        return self.action_space.n\n",
    "\n",
    "    def next_state(self, action):\n",
    "        return\n",
    "\n",
    "    def reset(self):\n",
    "        return\n",
    "\n",
    "    def render(self, mode='human'):\n",
    "        #print('{}:\\taction={}'.format(self.state['length'], self.state['last_action']))\n",
    "        return \n",
    "\n",
    "    def close(self):\n",
    "        return\n",
    "    \n",
    "class Agent(AgentBase):\n",
    "    def __init__(self, id, environment):\n",
    "        super(Agent, self).__init__(id, environment)\n",
    "    def take_action(self) -> (object, float, bool, object):\n",
    "        index_selected_arm = 0\n",
    "        obs, Ri, d, i = self.environment.step(index_selected_arm)\n",
    "        #self.environment.update_selected_arm(index_selected_arm, Ri)\n",
    "        #print(obs, r, d, i)\n",
    "        self.environment.render()\n",
    "        return obs, Ri, d, i"
   ]
  },
  {
   "cell_type": "code",
   "execution_count": 17,
   "metadata": {},
   "outputs": [],
   "source": [
    "reward_means = [0.2,-0.8,1.8,0.3,1.1,-1.3,-0.1,-1,0.8,-0.4]\n",
    "reward_var = [1,1,1,1,1,1,1,1,1,1]\n",
    "env = NArmedBanditEnvironment(10, 1)\n",
    "agent = Agent('1', env)\n",
    "for step in range(10):\n",
    "    agent.take_action()"
   ]
  }
 ],
 "metadata": {
  "kernelspec": {
   "display_name": "Python 3",
   "language": "python",
   "name": "python3"
  },
  "language_info": {
   "codemirror_mode": {
    "name": "ipython",
    "version": 3
   },
   "file_extension": ".py",
   "mimetype": "text/x-python",
   "name": "python",
   "nbconvert_exporter": "python",
   "pygments_lexer": "ipython3",
   "version": "3.7.1"
  }
 },
 "nbformat": 4,
 "nbformat_minor": 2
}
